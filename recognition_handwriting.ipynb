{
  "nbformat": 4,
  "nbformat_minor": 0,
  "metadata": {
    "colab": {
      "provenance": []
    },
    "kernelspec": {
      "name": "python3",
      "display_name": "Python 3"
    },
    "language_info": {
      "name": "python"
    }
  },
  "cells": [
    {
      "cell_type": "code",
      "execution_count": 1,
      "metadata": {
        "id": "Hnn-TPmuGObX",
        "colab": {
          "base_uri": "https://localhost:8080/"
        },
        "outputId": "72989792-a083-4bc7-f5ec-8346cb27622f"
      },
      "outputs": [
        {
          "output_type": "stream",
          "name": "stdout",
          "text": [
            "Downloading data from https://storage.googleapis.com/tensorflow/tf-keras-datasets/mnist.npz\n",
            "11490434/11490434 [==============================] - 0s 0us/step\n"
          ]
        }
      ],
      "source": [
        "from keras.datasets import mnist\n",
        "(train_images, train_labels), (test_images, test_labels) = mnist.load_data()\n",
        "# (train_images, train_labels) для обучения, (test_images, test_labels) для теста"
      ]
    },
    {
      "cell_type": "code",
      "source": [
        "train_images.shape\n",
        "# 60000 изображений 28*28 пикселей\n",
        "# начинаем обучать на этих данных"
      ],
      "metadata": {
        "colab": {
          "base_uri": "https://localhost:8080/"
        },
        "id": "miAJHzcBGpN2",
        "outputId": "e0d150d6-8649-494c-c65b-b923908b5433"
      },
      "execution_count": 2,
      "outputs": [
        {
          "output_type": "execute_result",
          "data": {
            "text/plain": [
              "(60000, 28, 28)"
            ]
          },
          "metadata": {},
          "execution_count": 2
        }
      ]
    },
    {
      "cell_type": "markdown",
      "source": [],
      "metadata": {
        "id": "tXbjvzI0EfUw"
      }
    },
    {
      "cell_type": "code",
      "source": [
        "len(train_labels)\n",
        "# метки уч. набора"
      ],
      "metadata": {
        "colab": {
          "base_uri": "https://localhost:8080/"
        },
        "id": "kLYqD0tyJOeL",
        "outputId": "7094c644-c238-4b12-bb0c-6cd84fa5608c"
      },
      "execution_count": 3,
      "outputs": [
        {
          "output_type": "execute_result",
          "data": {
            "text/plain": [
              "60000"
            ]
          },
          "metadata": {},
          "execution_count": 3
        }
      ]
    },
    {
      "cell_type": "code",
      "source": [
        "test_images.shape\n",
        "# смотрим что за изображение, метрики, загружаем в модели"
      ],
      "metadata": {
        "colab": {
          "base_uri": "https://localhost:8080/"
        },
        "id": "FAUBTCHvJUgJ",
        "outputId": "915509e3-228c-4018-f69b-7fdce56363cc"
      },
      "execution_count": 4,
      "outputs": [
        {
          "output_type": "execute_result",
          "data": {
            "text/plain": [
              "(10000, 28, 28)"
            ]
          },
          "metadata": {},
          "execution_count": 4
        }
      ]
    },
    {
      "cell_type": "code",
      "source": [
        "len(test_labels)"
      ],
      "metadata": {
        "colab": {
          "base_uri": "https://localhost:8080/"
        },
        "id": "Svdr_tf4JoxR",
        "outputId": "03bfe9a3-7986-4898-b5c0-85dc6484de53"
      },
      "execution_count": 5,
      "outputs": [
        {
          "output_type": "execute_result",
          "data": {
            "text/plain": [
              "10000"
            ]
          },
          "metadata": {},
          "execution_count": 5
        }
      ]
    },
    {
      "cell_type": "code",
      "source": [
        "train_labels\n",
        "# метка число 0-9"
      ],
      "metadata": {
        "colab": {
          "base_uri": "https://localhost:8080/"
        },
        "id": "RpTthPeLJuyJ",
        "outputId": "d0e052e9-9216-40c1-edad-669dbf19b3f6"
      },
      "execution_count": 6,
      "outputs": [
        {
          "output_type": "execute_result",
          "data": {
            "text/plain": [
              "array([5, 0, 4, ..., 5, 6, 8], dtype=uint8)"
            ]
          },
          "metadata": {},
          "execution_count": 6
        }
      ]
    },
    {
      "cell_type": "code",
      "source": [
        "test_labels"
      ],
      "metadata": {
        "colab": {
          "base_uri": "https://localhost:8080/"
        },
        "id": "ZMZ70ZRdKA1i",
        "outputId": "b6c67bf6-f09e-4007-868e-000f4caee6ca"
      },
      "execution_count": 7,
      "outputs": [
        {
          "output_type": "execute_result",
          "data": {
            "text/plain": [
              "array([7, 2, 1, ..., 4, 5, 6], dtype=uint8)"
            ]
          },
          "metadata": {},
          "execution_count": 7
        }
      ]
    },
    {
      "cell_type": "code",
      "source": [
        "from keras import models\n",
        "from keras import layers\n",
        "network = models.Sequential()\n",
        "# Первый слой 512 узлов изображение 28*28 в вектор из 784 элемента \n",
        "network.add(layers.Dense(512, activation='relu', input_shape=(28 * 28,)))\n",
        "# Второй слой 10 узлов выходной слой\n",
        "network.add(layers.Dense(10, activation='softmax'))\n",
        "# return массив из 10 оценок, их сумма =1\n",
        "# softmax вероятности принадлежности к тому или иному классу цифр"
      ],
      "metadata": {
        "id": "L8LS-40sKB01"
      },
      "execution_count": 8,
      "outputs": []
    },
    {
      "cell_type": "code",
      "source": [
        "# Оптимайзер как модель обновляется на основе данных, которые она видит, и функции потери\n",
        "# loss - функция потерь, metrics для контроля обучения и тестирования\n",
        "network.compile(optimizer='rmsprop',\n",
        " loss='categorical_crossentropy', # в задачах классификации лучше использовать категориальную кроссэнтропию\n",
        " metrics=['accuracy'])"
      ],
      "metadata": {
        "id": "w9S65cQoL48Q"
      },
      "execution_count": 9,
      "outputs": []
    },
    {
      "cell_type": "code",
      "source": [
        "# обработка данных: стандартизация вектора избражения в вектор из 0 и 1\n",
        "train_images = train_images.reshape((60000, 28 * 28))\n",
        "train_images = train_images.astype('float32') / 255\n",
        "test_images = test_images.reshape((10000, 28 * 28))\n",
        "test_images = test_images.astype('float32') / 255  "
      ],
      "metadata": {
        "id": "OHi1zXxiMNsL"
      },
      "execution_count": 10,
      "outputs": []
    },
    {
      "cell_type": "code",
      "source": [
        "from tensorflow.keras.utils import to_categorical\n",
        "# Преобразование метки целочисленной категории в кодировку onehot\n",
        "train_labels = to_categorical(train_labels)\n",
        "test_labels = to_categorical(test_labels)"
      ],
      "metadata": {
        "id": "b2oDIDuzNIXI"
      },
      "execution_count": 12,
      "outputs": []
    },
    {
      "cell_type": "code",
      "source": [
        "# обучение модели батч = 128 картинок\n",
        "network.fit(train_images, train_labels, epochs=5, batch_size=128) \n",
        "# точность 98%\n",
        "print(\"Модель успешно обучена\")\n",
        "network.save('mnist.h5')\n",
        "print(\"Модель сохранена как mnist.h5\")"
      ],
      "metadata": {
        "colab": {
          "base_uri": "https://localhost:8080/"
        },
        "id": "GS-ABicyNTnt",
        "outputId": "ed3209c5-abb4-4a10-e80d-e78382c1be01"
      },
      "execution_count": 13,
      "outputs": [
        {
          "output_type": "stream",
          "name": "stdout",
          "text": [
            "Epoch 1/5\n",
            "469/469 [==============================] - 6s 11ms/step - loss: 0.2589 - accuracy: 0.9247\n",
            "Epoch 2/5\n",
            "469/469 [==============================] - 5s 11ms/step - loss: 0.1031 - accuracy: 0.9692\n",
            "Epoch 3/5\n",
            "469/469 [==============================] - 5s 11ms/step - loss: 0.0675 - accuracy: 0.9797\n",
            "Epoch 4/5\n",
            "469/469 [==============================] - 5s 10ms/step - loss: 0.0500 - accuracy: 0.9847\n",
            "Epoch 5/5\n",
            "469/469 [==============================] - 5s 11ms/step - loss: 0.0373 - accuracy: 0.9889\n",
            "Модель успешно обучена\n",
            "Модель сохранена как mnist.h5\n"
          ]
        }
      ]
    },
    {
      "cell_type": "code",
      "source": [
        "# оценка точности: вычисляет значение критерия качества и метрики\n",
        "test_loss, test_acc = network.evaluate(test_images, test_labels, verbose=0)\n",
        "print('test_acc:', test_acc)\n",
        "print('test_loss:', test_loss)"
      ],
      "metadata": {
        "colab": {
          "base_uri": "https://localhost:8080/"
        },
        "id": "J2qgthEcNlHK",
        "outputId": "53c63d70-eb8a-487d-aff9-23247646a60a"
      },
      "execution_count": 14,
      "outputs": [
        {
          "output_type": "stream",
          "name": "stdout",
          "text": [
            "test_acc: 0.9803000092506409\n",
            "test_loss: 0.064906544983387\n"
          ]
        }
      ]
    },
    {
      "cell_type": "code",
      "source": [
        "digit = test_images[205]\n",
        "import matplotlib.pyplot as plt\n",
        "digit = digit.reshape(28, 28)\n",
        "plt.imshow(digit, cmap=plt.cm.binary)\n",
        "plt.show()"
      ],
      "metadata": {
        "colab": {
          "base_uri": "https://localhost:8080/",
          "height": 265
        },
        "id": "L6Oygy4aOI49",
        "outputId": "11cf11d6-e531-4bed-8c53-252602f41b74"
      },
      "execution_count": 15,
      "outputs": [
        {
          "output_type": "display_data",
          "data": {
            "text/plain": [
              "<Figure size 432x288 with 1 Axes>"
            ],
            "image/png": "[encoded data removed]"
          },
          "metadata": {
            "needs_background": "light"
          }
        }
      ]
    },
    {
      "cell_type": "code",
      "source": [
        "import numpy as np\n",
        "n = 205\n",
        "x = np.expand_dims(test_images[n], axis=0)\n",
        "res = network.predict(x)\n",
        "print(res)\n",
        "plt.imshow(test_images[n].reshape(28, 28), cmap=plt.cm.binary)\n",
        "plt.show()\n",
        "print( np.argmax(res) )\n",
        "# проводим проверку на изображении"
      ],
      "metadata": {
        "id": "JxS-axYjPqDL",
        "colab": {
          "base_uri": "https://localhost:8080/",
          "height": 334
        },
        "outputId": "bc997cd8-89fc-4b8c-ccf8-03e1aec2e29a"
      },
      "execution_count": 16,
      "outputs": [
        {
          "output_type": "stream",
          "name": "stdout",
          "text": [
            "1/1 [==============================] - 0s 79ms/step\n",
            "[[6.7607910e-09 2.0106629e-06 9.0112468e-07 9.9970657e-01 3.0005283e-06\n",
            "  2.1743042e-04 2.2661240e-09 1.9924453e-06 4.1694078e-05 2.6366539e-05]]\n"
          ]
        },
        {
          "output_type": "display_data",
          "data": {
            "text/plain": [
              "<Figure size 432x288 with 1 Axes>"
            ],
            "image/png": "[encoded data removed]"
          },
          "metadata": {
            "needs_background": "light"
          }
        },
        {
          "output_type": "stream",
          "name": "stdout",
          "text": [
            "3\n"
          ]
        }
      ]
    },
    {
      "cell_type": "code",
      "source": [
        "pred = network.predict(test_images)\n",
        "pred = np.argmax(pred, axis=1)\n",
        " \n",
        "print(pred.shape)\n",
        " \n",
        "print(pred[:20])\n",
        "test_lab2 = np.argmax(test_labels, axis=1)\n",
        "print(test_lab2[:20])"
      ],
      "metadata": {
        "id": "ahpbN3ycP0Vb",
        "colab": {
          "base_uri": "https://localhost:8080/"
        },
        "outputId": "cf7f0f4a-9214-4dc7-fe91-79bf3153d37f"
      },
      "execution_count": 17,
      "outputs": [
        {
          "output_type": "stream",
          "name": "stdout",
          "text": [
            "313/313 [==============================] - 1s 3ms/step\n",
            "(10000,)\n",
            "[7 2 1 0 4 1 4 9 5 9 0 6 9 0 1 5 9 7 3 4]\n",
            "[7 2 1 0 4 1 4 9 5 9 0 6 9 0 1 5 9 7 3 4]\n"
          ]
        }
      ]
    },
    {
      "cell_type": "code",
      "source": [
        "mask = pred == test_lab2\n",
        "print(mask[:20])\n",
        " \n",
        "x_false = test_images[~mask]\n",
        "y_false = test_images[~mask]\n",
        " \n",
        "print(x_false.shape)"
      ],
      "metadata": {
        "id": "aPSF4NfaP7Hr",
        "colab": {
          "base_uri": "https://localhost:8080/"
        },
        "outputId": "0eb61330-9863-4321-9398-811c258e36ee"
      },
      "execution_count": 18,
      "outputs": [
        {
          "output_type": "stream",
          "name": "stdout",
          "text": [
            "[ True  True  True  True  True  True  True  True  True  True  True  True\n",
            "  True  True  True  True  True  True  True  True]\n",
            "(197, 784)\n"
          ]
        }
      ]
    },
    {
      "cell_type": "code",
      "source": [
        "for i in range(5):\n",
        "  print(\"Значение сети: \"+str(test_lab2[i]))\n",
        "  plt.imshow(x_false[i].reshape(28, 28), cmap=plt.cm.binary)\n",
        "  plt.show()\n",
        "  # берем цифры, которые не точно определяются и считаем для них"
      ],
      "metadata": {
        "id": "ZqIjgKUUQGRW",
        "colab": {
          "base_uri": "https://localhost:8080/",
          "height": 1000
        },
        "outputId": "b6b18400-664c-4150-d5e0-6c4921a13e98"
      },
      "execution_count": 19,
      "outputs": [
        {
          "output_type": "stream",
          "name": "stdout",
          "text": [
            "Значение сети: 7\n"
          ]
        },
        {
          "output_type": "display_data",
          "data": {
            "text/plain": [
              "<Figure size 432x288 with 1 Axes>"
            ],
            "image/png": "[encoded data removed]"
          },
          "metadata": {
            "needs_background": "light"
          }
        },
        {
          "output_type": "stream",
          "name": "stdout",
          "text": [
            "Значение сети: 2\n"
          ]
        },
        {
          "output_type": "display_data",
          "data": {
            "text/plain": [
              "<Figure size 432x288 with 1 Axes>"
            ],
            "image/png": "[encoded data removed]"
          },
          "metadata": {
            "needs_background": "light"
          }
        },
        {
          "output_type": "stream",
          "name": "stdout",
          "text": [
            "Значение сети: 1\n"
          ]
        },
        {
          "output_type": "display_data",
          "data": {
            "text/plain": [
              "<Figure size 432x288 with 1 Axes>"
            ],
            "image/png": "[encoded data removed]"
          },
          "metadata": {
            "needs_background": "light"
          }
        },
        {
          "output_type": "stream",
          "name": "stdout",
          "text": [
            "Значение сети: 0\n"
          ]
        },
        {
          "output_type": "display_data",
          "data": {
            "text/plain": [
              "<Figure size 432x288 with 1 Axes>"
            ],
            "image/png": "[encoded data removed]"
          },
          "metadata": {
            "needs_background": "light"
          }
        },
        {
          "output_type": "stream",
          "name": "stdout",
          "text": [
            "Значение сети: 4\n"
          ]
        },
        {
          "output_type": "display_data",
          "data": {
            "text/plain": [
              "<Figure size 432x288 with 1 Axes>"
            ],
            "image/png": "[encoded data removed]"
          },
          "metadata": {
            "needs_background": "light"
          }
        }
      ]
    },
    {
      "cell_type": "code",
      "source": [],
      "metadata": {
        "id": "_mFzq3WUY93R"
      },
      "execution_count": null,
      "outputs": []
    }
  ]
}